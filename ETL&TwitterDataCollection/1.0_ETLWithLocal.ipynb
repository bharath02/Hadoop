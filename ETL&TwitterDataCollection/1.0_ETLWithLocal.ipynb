{
 "cells": [
  {
   "cell_type": "code",
   "execution_count": 14,
   "metadata": {},
   "outputs": [
    {
     "name": "stdout",
     "output_type": "stream",
     "text": [
      "+--------------------+-------------------+-------------------+-------------------+-------------------+\n",
      "|           user_name|          idle_time|      working_hours|         start_time|           end_time|\n",
      "+--------------------+-------------------+-------------------+-------------------+-------------------+\n",
      "|  sahil24c@gmail.com|2019-10-24 05:05:00|2019-10-24 05:50:00|2019-10-24 08:30:02|2019-10-24 19:25:02|\n",
      "|magadum.iranna@gm...|2019-10-24 02:15:00|2019-10-24 08:39:59|2019-10-24 08:30:02|2019-10-24 19:25:01|\n",
      "|  yathink3@gmail.com|2019-10-24 01:30:00|2019-10-24 09:24:59|2019-10-24 08:30:02|2019-10-24 19:25:01|\n",
      "|  shelkeva@gmail.com|2019-10-24 00:30:00|2019-10-24 09:10:01|2019-10-24 08:45:01|2019-10-24 18:25:02|\n",
      "|puruissimple@gmai...|2019-10-24 03:15:00|2019-10-24 07:19:59|2019-10-24 08:50:02|2019-10-24 19:25:01|\n",
      "|sangita.awaghad19...|2019-10-24 01:55:00|2019-10-24 08:40:00|2019-10-24 08:50:01|2019-10-24 19:25:01|\n",
      "|vaishusawant143@g...|2019-10-24 00:35:00|2019-10-24 09:55:00|2019-10-24 08:55:01|2019-10-24 19:25:01|\n",
      "|     you@example.com|2019-10-24 02:35:00|2019-10-24 08:04:59|2019-10-24 08:45:02|2019-10-24 19:25:01|\n",
      "|samadhanmahajan73...|2019-10-24 01:10:00|2019-10-24 08:39:59|2019-10-24 09:00:02|2019-10-24 18:50:01|\n",
      "|vishnu23kumar@gma...|2019-10-24 04:15:00|2019-10-24 06:10:00|2019-10-24 09:00:01|2019-10-24 19:25:01|\n",
      "|ashutoshrit64@gma...|2019-10-24 00:00:00|2019-10-24 10:25:01|2019-10-24 09:00:01|2019-10-24 19:25:02|\n",
      "|akshaybavalekar10...|2019-10-24 01:45:00|2019-10-24 08:35:00|2019-10-24 09:05:01|2019-10-24 19:25:01|\n",
      "|khairnarswapna99@...|2019-10-24 00:50:00|2019-10-24 09:25:00|2019-10-24 09:10:01|2019-10-24 19:25:01|\n",
      "|kukadeshilpaa7m95...|2019-10-24 00:35:00|2019-10-24 09:40:00|2019-10-24 09:10:01|2019-10-24 19:25:01|\n",
      "|sarikabarge111@gm...|2019-10-24 01:20:00|2019-10-24 08:45:00|2019-10-24 09:10:01|2019-10-24 19:15:01|\n",
      "|narsimharaj.kasu0...|2019-10-24 02:05:00|2019-10-24 08:05:00|2019-10-24 09:10:01|2019-10-24 19:20:01|\n",
      "|antonyalexcm@gmai...|2019-10-24 00:00:00|2019-10-24 10:15:00|2019-10-24 09:10:01|2019-10-24 19:25:01|\n",
      "|jitupatil937@gmai...|2019-10-24 00:55:00|2019-10-24 09:20:00|2019-10-24 09:10:01|2019-10-24 19:25:01|\n",
      "|akshaypatwari24@g...|2019-10-24 01:10:00|2019-10-24 09:05:00|2019-10-24 09:10:01|2019-10-24 19:25:01|\n",
      "|aheteshams007@gma...|2019-10-24 01:35:00|2019-10-24 08:50:01|2019-10-24 09:00:01|2019-10-24 19:25:02|\n",
      "+--------------------+-------------------+-------------------+-------------------+-------------------+\n",
      "only showing top 20 rows\n",
      "\n"
     ]
    }
   ],
   "source": [
    "from pyspark.sql import SQLContext\n",
    "from pyspark.sql import SparkSession\n",
    "spark= SparkSession.builder.appName(\"Learn\").getOrCreate()\n",
    "cpuDetails=spark.read.csv('usrINFO.csv',header=True,sep=',').cache()\n",
    "cpuDetails.show()"
   ]
  },
  {
   "cell_type": "code",
   "execution_count": 15,
   "metadata": {},
   "outputs": [
    {
     "name": "stdout",
     "output_type": "stream",
     "text": [
      "Total Records = 88\n"
     ]
    }
   ],
   "source": [
    "print('Total Records = {}'.format(cpuDetails.count()))"
   ]
  },
  {
   "cell_type": "markdown",
   "metadata": {},
   "source": [
    "# EXTRACT"
   ]
  },
  {
   "cell_type": "code",
   "execution_count": 16,
   "metadata": {},
   "outputs": [
    {
     "name": "stdout",
     "output_type": "stream",
     "text": [
      "+--------------------+-----+\n",
      "|           user_name|count|\n",
      "+--------------------+-----+\n",
      "|ashutoshrit64@gma...|    1|\n",
      "|giridhardandikwar...|    1|\n",
      "|       nikitapawar17|    1|\n",
      "|salinabodale73@gm...|    1|\n",
      "|mail2anik.officia...|    1|\n",
      "|“shivnajalisangal...|    1|\n",
      "|indrajeetgajbhiye...|    1|\n",
      "|khairnarswapna99@...|    1|\n",
      "|aman.raj251@gmail...|    1|\n",
      "|Krushnanikam26@gm...|    1|\n",
      "|gaikwadr576@gmail...|    1|\n",
      "|adikumar2514@gmai...|    1|\n",
      "|magadum.iranna@gm...|    1|\n",
      "| dileep.bs@yahoo.com|    1|\n",
      "|puruissimple@gmai...|    1|\n",
      "|prajktasraut16@gm...|    1|\n",
      "|er.mukulvij96@gma...|    1|\n",
      "|samruddhichitnis0...|    1|\n",
      "|surajwarbhuvan192...|    1|\n",
      "|hakepratiksha55@g...|    1|\n",
      "+--------------------+-----+\n",
      "only showing top 20 rows\n",
      "\n",
      "None\n"
     ]
    }
   ],
   "source": [
    "usernames=cpuDetails.groupBy('user_name').count()\n",
    "print(usernames.show())"
   ]
  },
  {
   "cell_type": "code",
   "execution_count": 17,
   "metadata": {},
   "outputs": [
    {
     "name": "stdout",
     "output_type": "stream",
     "text": [
      "+-------------------+-----+\n",
      "|          idle_time|count|\n",
      "+-------------------+-----+\n",
      "|2019-10-24 01:15:00|    1|\n",
      "|2019-10-24 02:30:00|    1|\n",
      "|2019-10-24 04:45:00|    1|\n",
      "|2019-10-24 02:10:00|    1|\n",
      "|2019-10-24 03:05:00|    2|\n",
      "|2019-10-24 04:20:00|    1|\n",
      "|2019-10-24 03:15:00|    1|\n",
      "|2019-10-24 09:50:00|    1|\n",
      "|2019-10-24 01:50:00|    1|\n",
      "|2019-10-24 03:25:00|    1|\n",
      "|2019-10-24 00:35:00|    5|\n",
      "|2019-10-24 01:10:00|    4|\n",
      "|2019-10-24 01:00:00|    2|\n",
      "|2019-10-24 02:05:00|    1|\n",
      "|2019-10-24 03:30:00|    1|\n",
      "|2019-10-24 01:25:00|    1|\n",
      "|2019-10-24 00:25:00|    4|\n",
      "|2019-10-24 01:40:00|    1|\n",
      "|2019-10-24 09:15:00|    2|\n",
      "|2019-10-24 03:35:00|    1|\n",
      "+-------------------+-----+\n",
      "only showing top 20 rows\n",
      "\n"
     ]
    }
   ],
   "source": [
    "idleTime=cpuDetails.groupBy('idle_time').count()\n",
    "idleTime.show()"
   ]
  },
  {
   "cell_type": "code",
   "execution_count": 31,
   "metadata": {},
   "outputs": [
    {
     "name": "stdout",
     "output_type": "stream",
     "text": [
      "+--------------------+-------------------+\n",
      "|           user_name|      working_hours|\n",
      "+--------------------+-------------------+\n",
      "|  sahil24c@gmail.com|2019-10-24 05:50:00|\n",
      "|magadum.iranna@gm...|2019-10-24 08:39:59|\n",
      "|  yathink3@gmail.com|2019-10-24 09:24:59|\n",
      "|  shelkeva@gmail.com|2019-10-24 09:10:01|\n",
      "|puruissimple@gmai...|2019-10-24 07:19:59|\n",
      "|sangita.awaghad19...|2019-10-24 08:40:00|\n",
      "|vaishusawant143@g...|2019-10-24 09:55:00|\n",
      "|     you@example.com|2019-10-24 08:04:59|\n",
      "|samadhanmahajan73...|2019-10-24 08:39:59|\n",
      "|vishnu23kumar@gma...|2019-10-24 06:10:00|\n",
      "|ashutoshrit64@gma...|2019-10-24 10:25:01|\n",
      "|akshaybavalekar10...|2019-10-24 08:35:00|\n",
      "|khairnarswapna99@...|2019-10-24 09:25:00|\n",
      "|kukadeshilpaa7m95...|2019-10-24 09:40:00|\n",
      "|sarikabarge111@gm...|2019-10-24 08:45:00|\n",
      "|narsimharaj.kasu0...|2019-10-24 08:05:00|\n",
      "|antonyalexcm@gmai...|2019-10-24 10:15:00|\n",
      "|jitupatil937@gmai...|2019-10-24 09:20:00|\n",
      "|akshaypatwari24@g...|2019-10-24 09:05:00|\n",
      "|aheteshams007@gma...|2019-10-24 08:50:01|\n",
      "+--------------------+-------------------+\n",
      "only showing top 20 rows\n",
      "\n"
     ]
    }
   ],
   "source": [
    "data=cpuDetails.select('user_name','working_hours')\n",
    "data.show()"
   ]
  },
  {
   "cell_type": "code",
   "execution_count": 32,
   "metadata": {},
   "outputs": [],
   "source": [
    "data.write.format('json').save('worktime.json')"
   ]
  }
 ],
 "metadata": {
  "kernelspec": {
   "display_name": "Python 3",
   "language": "python",
   "name": "python3"
  },
  "language_info": {
   "codemirror_mode": {
    "name": "ipython",
    "version": 3
   },
   "file_extension": ".py",
   "mimetype": "text/x-python",
   "name": "python",
   "nbconvert_exporter": "python",
   "pygments_lexer": "ipython3",
   "version": "3.6.9"
  }
 },
 "nbformat": 4,
 "nbformat_minor": 4
}
