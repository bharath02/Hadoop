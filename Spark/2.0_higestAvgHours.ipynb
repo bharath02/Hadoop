{
 "cells": [
  {
   "cell_type": "code",
   "execution_count": 1,
   "metadata": {},
   "outputs": [],
   "source": [
    "from pyspark.sql.functions import hour,minute, second, col, avg, when\n",
    "from pyspark.sql import SparkSession"
   ]
  },
  {
   "cell_type": "code",
   "execution_count": 2,
   "metadata": {},
   "outputs": [
    {
     "name": "stdout",
     "output_type": "stream",
     "text": [
      "+--------------------+-------------------+-------------------+-------------------+-------------------+\n",
      "|           user_name|          idle_time|      working_hours|         start_time|           end_time|\n",
      "+--------------------+-------------------+-------------------+-------------------+-------------------+\n",
      "|  sahil24c@gmail.com|2019-10-24 05:05:00|2019-10-24 05:50:00|2019-10-24 08:30:02|2019-10-24 19:25:02|\n",
      "|magadum.iranna@gm...|2019-10-24 02:15:00|2019-10-24 08:39:59|2019-10-24 08:30:02|2019-10-24 19:25:01|\n",
      "|  yathink3@gmail.com|2019-10-24 01:30:00|2019-10-24 09:24:59|2019-10-24 08:30:02|2019-10-24 19:25:01|\n",
      "|  shelkeva@gmail.com|2019-10-24 00:30:00|2019-10-24 09:10:01|2019-10-24 08:45:01|2019-10-24 18:25:02|\n",
      "|puruissimple@gmai...|2019-10-24 03:15:00|2019-10-24 07:19:59|2019-10-24 08:50:02|2019-10-24 19:25:01|\n",
      "|sangita.awaghad19...|2019-10-24 01:55:00|2019-10-24 08:40:00|2019-10-24 08:50:01|2019-10-24 19:25:01|\n",
      "|vaishusawant143@g...|2019-10-24 00:35:00|2019-10-24 09:55:00|2019-10-24 08:55:01|2019-10-24 19:25:01|\n",
      "|     you@example.com|2019-10-24 02:35:00|2019-10-24 08:04:59|2019-10-24 08:45:02|2019-10-24 19:25:01|\n",
      "|samadhanmahajan73...|2019-10-24 01:10:00|2019-10-24 08:39:59|2019-10-24 09:00:02|2019-10-24 18:50:01|\n",
      "|vishnu23kumar@gma...|2019-10-24 04:15:00|2019-10-24 06:10:00|2019-10-24 09:00:01|2019-10-24 19:25:01|\n",
      "|ashutoshrit64@gma...|2019-10-24 00:00:00|2019-10-24 10:25:01|2019-10-24 09:00:01|2019-10-24 19:25:02|\n",
      "|akshaybavalekar10...|2019-10-24 01:45:00|2019-10-24 08:35:00|2019-10-24 09:05:01|2019-10-24 19:25:01|\n",
      "|khairnarswapna99@...|2019-10-24 00:50:00|2019-10-24 09:25:00|2019-10-24 09:10:01|2019-10-24 19:25:01|\n",
      "|kukadeshilpaa7m95...|2019-10-24 00:35:00|2019-10-24 09:40:00|2019-10-24 09:10:01|2019-10-24 19:25:01|\n",
      "|sarikabarge111@gm...|2019-10-24 01:20:00|2019-10-24 08:45:00|2019-10-24 09:10:01|2019-10-24 19:15:01|\n",
      "|narsimharaj.kasu0...|2019-10-24 02:05:00|2019-10-24 08:05:00|2019-10-24 09:10:01|2019-10-24 19:20:01|\n",
      "|antonyalexcm@gmai...|2019-10-24 00:00:00|2019-10-24 10:15:00|2019-10-24 09:10:01|2019-10-24 19:25:01|\n",
      "|jitupatil937@gmai...|2019-10-24 00:55:00|2019-10-24 09:20:00|2019-10-24 09:10:01|2019-10-24 19:25:01|\n",
      "|akshaypatwari24@g...|2019-10-24 01:10:00|2019-10-24 09:05:00|2019-10-24 09:10:01|2019-10-24 19:25:01|\n",
      "|aheteshams007@gma...|2019-10-24 01:35:00|2019-10-24 08:50:01|2019-10-24 09:00:01|2019-10-24 19:25:02|\n",
      "+--------------------+-------------------+-------------------+-------------------+-------------------+\n",
      "only showing top 20 rows\n",
      "\n"
     ]
    }
   ],
   "source": [
    "spark= SparkSession.builder.appName(\"Learn\").getOrCreate()\n",
    "cpuDetails=spark.read.csv('usrINFO.csv',header=True, inferSchema=True)\n",
    "cpuDetails.show()"
   ]
  },
  {
   "cell_type": "code",
   "execution_count": 16,
   "metadata": {},
   "outputs": [
    {
     "name": "stdout",
     "output_type": "stream",
     "text": [
      "+--------------------+---------+\n",
      "|           user_name|hours2Sec|\n",
      "+--------------------+---------+\n",
      "|  sahil24c@gmail.com|    18000|\n",
      "|magadum.iranna@gm...|    28800|\n",
      "|  yathink3@gmail.com|    32400|\n",
      "|  shelkeva@gmail.com|    32400|\n",
      "|puruissimple@gmai...|    25200|\n",
      "+--------------------+---------+\n",
      "only showing top 5 rows\n",
      "\n",
      "+--------------------+----------+\n",
      "|           user_name|Minute2Sec|\n",
      "+--------------------+----------+\n",
      "|  sahil24c@gmail.com|      3000|\n",
      "|magadum.iranna@gm...|      2340|\n",
      "|  yathink3@gmail.com|      1440|\n",
      "|  shelkeva@gmail.com|       600|\n",
      "|puruissimple@gmai...|      1140|\n",
      "+--------------------+----------+\n",
      "only showing top 5 rows\n",
      "\n",
      "+--------------------+-------+\n",
      "|           user_name|Seconds|\n",
      "+--------------------+-------+\n",
      "|  sahil24c@gmail.com|      0|\n",
      "|magadum.iranna@gm...|     59|\n",
      "|  yathink3@gmail.com|     59|\n",
      "|  shelkeva@gmail.com|      1|\n",
      "|puruissimple@gmai...|     59|\n",
      "+--------------------+-------+\n",
      "only showing top 5 rows\n",
      "\n"
     ]
    }
   ],
   "source": [
    "dataWorkingHour=cpuDetails.withColumn('hours2Sec',hour(cpuDetails['working_hours'])*3600)\n",
    "dataWorkingMin=cpuDetails.withColumn('Minute2Sec',minute(cpuDetails['working_hours'])*60)\n",
    "dataWorkingSec=cpuDetails.withColumn('Seconds',second(cpuDetails['working_hours']))\n",
    "hours=dataWorkingHour.select('user_name','hours2Sec')\n",
    "Minutes=dataWorkingMin.select('user_name','Minute2Sec')\n",
    "seconds=dataWorkingSec.select('user_name','Seconds')\n",
    "hours.show(5)\n",
    "Minutes.show(5)\n",
    "seconds.show(5)"
   ]
  },
  {
   "cell_type": "code",
   "execution_count": 18,
   "metadata": {},
   "outputs": [
    {
     "name": "stdout",
     "output_type": "stream",
     "text": [
      "+--------------------+---------+----------+\n",
      "|           user_name|hours2Sec|Minute2Sec|\n",
      "+--------------------+---------+----------+\n",
      "|  sahil24c@gmail.com|    18000|      3000|\n",
      "|magadum.iranna@gm...|    28800|      2340|\n",
      "|  yathink3@gmail.com|    32400|      1440|\n",
      "|  shelkeva@gmail.com|    32400|       600|\n",
      "|puruissimple@gmai...|    25200|      1140|\n",
      "+--------------------+---------+----------+\n",
      "only showing top 5 rows\n",
      "\n"
     ]
    }
   ],
   "source": [
    "hourAmin=hours.join(Minutes, on=['user_name'], how='inner')\n",
    "hourAmin.show(5)"
   ]
  },
  {
   "cell_type": "code",
   "execution_count": 20,
   "metadata": {},
   "outputs": [
    {
     "name": "stdout",
     "output_type": "stream",
     "text": [
      "+--------------------+---------+----------+-------+\n",
      "|           user_name|hours2Sec|Minute2Sec|Seconds|\n",
      "+--------------------+---------+----------+-------+\n",
      "|  sahil24c@gmail.com|    18000|      3000|      0|\n",
      "|magadum.iranna@gm...|    28800|      2340|     59|\n",
      "|  yathink3@gmail.com|    32400|      1440|     59|\n",
      "|  shelkeva@gmail.com|    32400|       600|      1|\n",
      "|puruissimple@gmai...|    25200|      1140|     59|\n",
      "+--------------------+---------+----------+-------+\n",
      "only showing top 5 rows\n",
      "\n"
     ]
    }
   ],
   "source": [
    "hourAminAsec=hourAmin.join(seconds,on=['user_name'],how='inner')\n",
    "hourAminAsec.show(5)"
   ]
  },
  {
   "cell_type": "code",
   "execution_count": 22,
   "metadata": {},
   "outputs": [
    {
     "name": "stdout",
     "output_type": "stream",
     "text": [
      "+--------------------+---------+----------+-------+-----------------+\n",
      "|           user_name|hours2Sec|Minute2Sec|Seconds|         Avgvalue|\n",
      "+--------------------+---------+----------+-------+-----------------+\n",
      "|  sahil24c@gmail.com|    18000|      3000|      0|5.833333333333333|\n",
      "|magadum.iranna@gm...|    28800|      2340|     59| 8.66638888888889|\n",
      "|  yathink3@gmail.com|    32400|      1440|     59| 9.41638888888889|\n",
      "|  shelkeva@gmail.com|    32400|       600|      1|9.166944444444445|\n",
      "|puruissimple@gmai...|    25200|      1140|     59|7.333055555555555|\n",
      "+--------------------+---------+----------+-------+-----------------+\n",
      "only showing top 5 rows\n",
      "\n"
     ]
    }
   ],
   "source": [
    "val=hourAminAsec.withColumn('Avgvalue', (hourAminAsec['hours2Sec']+hourAminAsec['Minute2Sec']+hourAminAsec['Seconds'])/3600)\n",
    "val.show(5)"
   ]
  },
  {
   "cell_type": "code",
   "execution_count": 23,
   "metadata": {},
   "outputs": [
    {
     "name": "stdout",
     "output_type": "stream",
     "text": [
      "+-----------------+\n",
      "|    avg(Avgvalue)|\n",
      "+-----------------+\n",
      "|7.137449494949498|\n",
      "+-----------------+\n",
      "\n"
     ]
    }
   ],
   "source": [
    "higestAvgVal=val.select(avg(val[valuew'Avgvalue']))\n",
    "higestAvgVal.show()"
   ]
  },
  {
   "cell_type": "code",
   "execution_count": 25,
   "metadata": {},
   "outputs": [
    {
     "name": "stdout",
     "output_type": "stream",
     "text": [
      "+--------------------+------------------+\n",
      "|           user_name|          Avgvalue|\n",
      "+--------------------+------------------+\n",
      "|magadum.iranna@gm...|  8.66638888888889|\n",
      "|  yathink3@gmail.com|  9.41638888888889|\n",
      "|  shelkeva@gmail.com| 9.166944444444445|\n",
      "|puruissimple@gmai...| 7.333055555555555|\n",
      "|sangita.awaghad19...| 8.666666666666666|\n",
      "|vaishusawant143@g...| 9.916666666666666|\n",
      "|     you@example.com| 8.083055555555555|\n",
      "|samadhanmahajan73...|  8.66638888888889|\n",
      "|ashutoshrit64@gma...|10.416944444444445|\n",
      "|akshaybavalekar10...| 8.583333333333334|\n",
      "|khairnarswapna99@...| 9.416666666666666|\n",
      "|kukadeshilpaa7m95...| 9.666666666666666|\n",
      "|sarikabarge111@gm...|              8.75|\n",
      "|narsimharaj.kasu0...| 8.083333333333334|\n",
      "|antonyalexcm@gmai...|             10.25|\n",
      "|jitupatil937@gmai...| 9.333333333333334|\n",
      "|akshaypatwari24@g...| 9.083333333333334|\n",
      "|aheteshams007@gma...|  8.83361111111111|\n",
      "|surajpj7852@gmail...| 7.916666666666667|\n",
      "|kaleshwetaanil@gm...| 9.499722222222223|\n",
      "+--------------------+------------------+\n",
      "only showing top 20 rows\n",
      "\n"
     ]
    }
   ],
   "source": [
    "count=val.filter(val['Avgvalue']>7.137).select('user_name','Avgvalue').show()"
   ]
  }
 ],
 "metadata": {
  "kernelspec": {
   "display_name": "Python 3",
   "language": "python",
   "name": "python3"
  },
  "language_info": {
   "codemirror_mode": {
    "name": "ipython",
    "version": 3
   },
   "file_extension": ".py",
   "mimetype": "text/x-python",
   "name": "python",
   "nbconvert_exporter": "python",
   "pygments_lexer": "ipython3",
   "version": "3.6.9"
  }
 },
 "nbformat": 4,
 "nbformat_minor": 4
}
