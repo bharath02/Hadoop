{
 "cells": [
  {
   "cell_type": "code",
   "execution_count": 1,
   "metadata": {},
   "outputs": [],
   "source": [
    "from pyspark.sql.functions import hour,minute, second, col, avg, when\n",
    "from pyspark.sql import SparkSession"
   ]
  },
  {
   "cell_type": "code",
   "execution_count": 2,
   "metadata": {},
   "outputs": [
    {
     "name": "stdout",
     "output_type": "stream",
     "text": [
      "+--------------------+-------------------+-------------------+-------------------+-------------------+\n",
      "|           user_name|          idle_time|      working_hours|         start_time|           end_time|\n",
      "+--------------------+-------------------+-------------------+-------------------+-------------------+\n",
      "|  sahil24c@gmail.com|2019-10-24 05:05:00|2019-10-24 05:50:00|2019-10-24 08:30:02|2019-10-24 19:25:02|\n",
      "|magadum.iranna@gm...|2019-10-24 02:15:00|2019-10-24 08:39:59|2019-10-24 08:30:02|2019-10-24 19:25:01|\n",
      "|  yathink3@gmail.com|2019-10-24 01:30:00|2019-10-24 09:24:59|2019-10-24 08:30:02|2019-10-24 19:25:01|\n",
      "|  shelkeva@gmail.com|2019-10-24 00:30:00|2019-10-24 09:10:01|2019-10-24 08:45:01|2019-10-24 18:25:02|\n",
      "|puruissimple@gmai...|2019-10-24 03:15:00|2019-10-24 07:19:59|2019-10-24 08:50:02|2019-10-24 19:25:01|\n",
      "|sangita.awaghad19...|2019-10-24 01:55:00|2019-10-24 08:40:00|2019-10-24 08:50:01|2019-10-24 19:25:01|\n",
      "|vaishusawant143@g...|2019-10-24 00:35:00|2019-10-24 09:55:00|2019-10-24 08:55:01|2019-10-24 19:25:01|\n",
      "|     you@example.com|2019-10-24 02:35:00|2019-10-24 08:04:59|2019-10-24 08:45:02|2019-10-24 19:25:01|\n",
      "|samadhanmahajan73...|2019-10-24 01:10:00|2019-10-24 08:39:59|2019-10-24 09:00:02|2019-10-24 18:50:01|\n",
      "|vishnu23kumar@gma...|2019-10-24 04:15:00|2019-10-24 06:10:00|2019-10-24 09:00:01|2019-10-24 19:25:01|\n",
      "|ashutoshrit64@gma...|2019-10-24 00:00:00|2019-10-24 10:25:01|2019-10-24 09:00:01|2019-10-24 19:25:02|\n",
      "|akshaybavalekar10...|2019-10-24 01:45:00|2019-10-24 08:35:00|2019-10-24 09:05:01|2019-10-24 19:25:01|\n",
      "|khairnarswapna99@...|2019-10-24 00:50:00|2019-10-24 09:25:00|2019-10-24 09:10:01|2019-10-24 19:25:01|\n",
      "|kukadeshilpaa7m95...|2019-10-24 00:35:00|2019-10-24 09:40:00|2019-10-24 09:10:01|2019-10-24 19:25:01|\n",
      "|sarikabarge111@gm...|2019-10-24 01:20:00|2019-10-24 08:45:00|2019-10-24 09:10:01|2019-10-24 19:15:01|\n",
      "|narsimharaj.kasu0...|2019-10-24 02:05:00|2019-10-24 08:05:00|2019-10-24 09:10:01|2019-10-24 19:20:01|\n",
      "|antonyalexcm@gmai...|2019-10-24 00:00:00|2019-10-24 10:15:00|2019-10-24 09:10:01|2019-10-24 19:25:01|\n",
      "|jitupatil937@gmai...|2019-10-24 00:55:00|2019-10-24 09:20:00|2019-10-24 09:10:01|2019-10-24 19:25:01|\n",
      "|akshaypatwari24@g...|2019-10-24 01:10:00|2019-10-24 09:05:00|2019-10-24 09:10:01|2019-10-24 19:25:01|\n",
      "|aheteshams007@gma...|2019-10-24 01:35:00|2019-10-24 08:50:01|2019-10-24 09:00:01|2019-10-24 19:25:02|\n",
      "+--------------------+-------------------+-------------------+-------------------+-------------------+\n",
      "only showing top 20 rows\n",
      "\n"
     ]
    }
   ],
   "source": [
    "spark= SparkSession.builder.appName(\"Learn\").getOrCreate()\n",
    "cpuDetails=spark.read.csv('usrINFO.csv',header=True, inferSchema=True)\n",
    "cpuDetails.show()"
   ]
  },
  {
   "cell_type": "code",
   "execution_count": 3,
   "metadata": {},
   "outputs": [
    {
     "name": "stdout",
     "output_type": "stream",
     "text": [
      "+--------------------+---------+\n",
      "|           user_name|hours2Sec|\n",
      "+--------------------+---------+\n",
      "|  sahil24c@gmail.com|    18000|\n",
      "|magadum.iranna@gm...|     7200|\n",
      "|  yathink3@gmail.com|     3600|\n",
      "|  shelkeva@gmail.com|        0|\n",
      "|puruissimple@gmai...|    10800|\n",
      "+--------------------+---------+\n",
      "only showing top 5 rows\n",
      "\n",
      "+--------------------+----------+\n",
      "|           user_name|Minute2Sec|\n",
      "+--------------------+----------+\n",
      "|  sahil24c@gmail.com|       300|\n",
      "|magadum.iranna@gm...|       900|\n",
      "|  yathink3@gmail.com|      1800|\n",
      "|  shelkeva@gmail.com|      1800|\n",
      "|puruissimple@gmai...|       900|\n",
      "+--------------------+----------+\n",
      "only showing top 5 rows\n",
      "\n",
      "+--------------------+-------+\n",
      "|           user_name|Seconds|\n",
      "+--------------------+-------+\n",
      "|  sahil24c@gmail.com|      0|\n",
      "|magadum.iranna@gm...|      0|\n",
      "|  yathink3@gmail.com|      0|\n",
      "|  shelkeva@gmail.com|      0|\n",
      "|puruissimple@gmai...|      0|\n",
      "+--------------------+-------+\n",
      "only showing top 5 rows\n",
      "\n"
     ]
    }
   ],
   "source": [
    "dataIdleHour=cpuDetails.withColumn('hours2Sec',hour(cpuDetails['idle_time'])*3600)\n",
    "dataIdleMin=cpuDetails.withColumn('Minute2Sec',minute(cpuDetails['idle_time'])*60)\n",
    "dataIdleSec=cpuDetails.withColumn('Seconds',second(cpuDetails['idle_time']))\n",
    "hours=dataIdleHour.select('user_name','hours2Sec')\n",
    "Minutes=dataIdleMin.select('user_name','Minute2Sec')\n",
    "seconds=dataIdleSec.select('user_name','Seconds')\n",
    "hours.show(5)\n",
    "Minutes.show(5)\n",
    "seconds.show(5)"
   ]
  },
  {
   "cell_type": "code",
   "execution_count": 4,
   "metadata": {},
   "outputs": [
    {
     "name": "stdout",
     "output_type": "stream",
     "text": [
      "+--------------------+---------+----------+\n",
      "|           user_name|hours2Sec|Minute2Sec|\n",
      "+--------------------+---------+----------+\n",
      "|  sahil24c@gmail.com|    18000|       300|\n",
      "|magadum.iranna@gm...|     7200|       900|\n",
      "|  yathink3@gmail.com|     3600|      1800|\n",
      "|  shelkeva@gmail.com|        0|      1800|\n",
      "|puruissimple@gmai...|    10800|       900|\n",
      "+--------------------+---------+----------+\n",
      "only showing top 5 rows\n",
      "\n"
     ]
    }
   ],
   "source": [
    "hourAmin=hours.join(Minutes, on=['user_name'], how='inner')\n",
    "hourAmin.show(5)"
   ]
  },
  {
   "cell_type": "code",
   "execution_count": 5,
   "metadata": {},
   "outputs": [
    {
     "name": "stdout",
     "output_type": "stream",
     "text": [
      "+--------------------+---------+----------+-------+\n",
      "|           user_name|hours2Sec|Minute2Sec|Seconds|\n",
      "+--------------------+---------+----------+-------+\n",
      "|  sahil24c@gmail.com|    18000|       300|      0|\n",
      "|magadum.iranna@gm...|     7200|       900|      0|\n",
      "|  yathink3@gmail.com|     3600|      1800|      0|\n",
      "|  shelkeva@gmail.com|        0|      1800|      0|\n",
      "|puruissimple@gmai...|    10800|       900|      0|\n",
      "+--------------------+---------+----------+-------+\n",
      "only showing top 5 rows\n",
      "\n"
     ]
    }
   ],
   "source": [
    "hourAminAsec=hourAmin.join(seconds,on=['user_name'],how='inner')\n",
    "hourAminAsec.show(5)"
   ]
  },
  {
   "cell_type": "code",
   "execution_count": 6,
   "metadata": {},
   "outputs": [
    {
     "name": "stdout",
     "output_type": "stream",
     "text": [
      "+--------------------+---------+----------+-------+-----------------+\n",
      "|           user_name|hours2Sec|Minute2Sec|Seconds|         Avgvalue|\n",
      "+--------------------+---------+----------+-------+-----------------+\n",
      "|  sahil24c@gmail.com|    18000|       300|      0|5.083333333333333|\n",
      "|magadum.iranna@gm...|     7200|       900|      0|             2.25|\n",
      "|  yathink3@gmail.com|     3600|      1800|      0|              1.5|\n",
      "|  shelkeva@gmail.com|        0|      1800|      0|              0.5|\n",
      "|puruissimple@gmai...|    10800|       900|      0|             3.25|\n",
      "+--------------------+---------+----------+-------+-----------------+\n",
      "only showing top 5 rows\n",
      "\n"
     ]
    }
   ],
   "source": [
    "val=hourAminAsec.withColumn('Avgvalue', (hourAminAsec['hours2Sec']+hourAminAsec['Minute2Sec']+hourAminAsec['Seconds'])/3600)\n",
    "val.show(5)"
   ]
  },
  {
   "cell_type": "code",
   "execution_count": 7,
   "metadata": {},
   "outputs": [
    {
     "name": "stdout",
     "output_type": "stream",
     "text": [
      "+-------------+\n",
      "|avg(Avgvalue)|\n",
      "+-------------+\n",
      "|      2.03125|\n",
      "+-------------+\n",
      "\n"
     ]
    }
   ],
   "source": [
    "AvgIdle=val.select(avg('Avgvalue'))\n",
    "AvgIdle.show()"
   ]
  },
  {
   "cell_type": "code",
   "execution_count": 9,
   "metadata": {},
   "outputs": [
    {
     "name": "stdout",
     "output_type": "stream",
     "text": [
      "+--------------------+------------------+\n",
      "|           user_name|          Avgvalue|\n",
      "+--------------------+------------------+\n",
      "|  sahil24c@gmail.com| 5.083333333333333|\n",
      "|magadum.iranna@gm...|              2.25|\n",
      "|puruissimple@gmai...|              3.25|\n",
      "|     you@example.com|2.5833333333333335|\n",
      "|vishnu23kumar@gma...|              4.25|\n",
      "|narsimharaj.kasu0...|2.0833333333333335|\n",
      "|sargampandey27oct...|              4.75|\n",
      "|ayush.saraf47@gma...| 4.333333333333333|\n",
      "|mr.kundare@gmail.com|10.083333333333334|\n",
      "|surajpj7852@gmail...|2.1666666666666665|\n",
      "|ruchikachile30199...|3.5833333333333335|\n",
      "|farooqbassam4@gma...|               2.5|\n",
      "|“shivnajalisangal...| 9.833333333333334|\n",
      "| addyp1911@gmail.com|3.1666666666666665|\n",
      "|dipakalagate1991@...|3.1666666666666665|\n",
      "|gaikwadr576@gmail...|3.0833333333333335|\n",
      "|tekina.makin@gmai...| 9.416666666666666|\n",
      "|mishrasushil889@g...|               3.5|\n",
      "| blsonalib@gmail.com|2.5833333333333335|\n",
      "|hakepratiksha55@g...| 9.416666666666666|\n",
      "+--------------------+------------------+\n",
      "only showing top 20 rows\n",
      "\n"
     ]
    }
   ],
   "source": [
    "val.filter(val['Avgvalue']>2.0312).select('user_name','Avgvalue').show()"
   ]
  }
 ],
 "metadata": {
  "kernelspec": {
   "display_name": "Python 3",
   "language": "python",
   "name": "python3"
  },
  "language_info": {
   "codemirror_mode": {
    "name": "ipython",
    "version": 3
   },
   "file_extension": ".py",
   "mimetype": "text/x-python",
   "name": "python",
   "nbconvert_exporter": "python",
   "pygments_lexer": "ipython3",
   "version": "3.6.9"
  }
 },
 "nbformat": 4,
 "nbformat_minor": 4
}
