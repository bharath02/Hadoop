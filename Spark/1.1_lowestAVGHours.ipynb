{
 "cells": [
  {
   "cell_type": "code",
   "execution_count": 12,
   "metadata": {},
   "outputs": [],
   "source": [
    "from pyspark.sql.functions import hour, minute, second, col, avg, when\n",
    "from pyspark.sql import SQLContext\n",
    "from pyspark.sql import SparkSession\n",
    "\n",
    "import datetime\n",
    "#sqlContext=SQLContext(sc)"
   ]
  },
  {
   "cell_type": "code",
   "execution_count": 13,
   "metadata": {},
   "outputs": [
    {
     "name": "stdout",
     "output_type": "stream",
     "text": [
      "+--------------------+-------------------+-------------------+-------------------+-------------------+\n",
      "|           user_name|          idle_time|      working_hours|         start_time|           end_time|\n",
      "+--------------------+-------------------+-------------------+-------------------+-------------------+\n",
      "|  sahil24c@gmail.com|2019-10-24 05:05:00|2019-10-24 05:50:00|2019-10-24 08:30:02|2019-10-24 19:25:02|\n",
      "|magadum.iranna@gm...|2019-10-24 02:15:00|2019-10-24 08:39:59|2019-10-24 08:30:02|2019-10-24 19:25:01|\n",
      "|  yathink3@gmail.com|2019-10-24 01:30:00|2019-10-24 09:24:59|2019-10-24 08:30:02|2019-10-24 19:25:01|\n",
      "|  shelkeva@gmail.com|2019-10-24 00:30:00|2019-10-24 09:10:01|2019-10-24 08:45:01|2019-10-24 18:25:02|\n",
      "|puruissimple@gmai...|2019-10-24 03:15:00|2019-10-24 07:19:59|2019-10-24 08:50:02|2019-10-24 19:25:01|\n",
      "|sangita.awaghad19...|2019-10-24 01:55:00|2019-10-24 08:40:00|2019-10-24 08:50:01|2019-10-24 19:25:01|\n",
      "|vaishusawant143@g...|2019-10-24 00:35:00|2019-10-24 09:55:00|2019-10-24 08:55:01|2019-10-24 19:25:01|\n",
      "|     you@example.com|2019-10-24 02:35:00|2019-10-24 08:04:59|2019-10-24 08:45:02|2019-10-24 19:25:01|\n",
      "|samadhanmahajan73...|2019-10-24 01:10:00|2019-10-24 08:39:59|2019-10-24 09:00:02|2019-10-24 18:50:01|\n",
      "|vishnu23kumar@gma...|2019-10-24 04:15:00|2019-10-24 06:10:00|2019-10-24 09:00:01|2019-10-24 19:25:01|\n",
      "|ashutoshrit64@gma...|2019-10-24 00:00:00|2019-10-24 10:25:01|2019-10-24 09:00:01|2019-10-24 19:25:02|\n",
      "|akshaybavalekar10...|2019-10-24 01:45:00|2019-10-24 08:35:00|2019-10-24 09:05:01|2019-10-24 19:25:01|\n",
      "|khairnarswapna99@...|2019-10-24 00:50:00|2019-10-24 09:25:00|2019-10-24 09:10:01|2019-10-24 19:25:01|\n",
      "|kukadeshilpaa7m95...|2019-10-24 00:35:00|2019-10-24 09:40:00|2019-10-24 09:10:01|2019-10-24 19:25:01|\n",
      "|sarikabarge111@gm...|2019-10-24 01:20:00|2019-10-24 08:45:00|2019-10-24 09:10:01|2019-10-24 19:15:01|\n",
      "|narsimharaj.kasu0...|2019-10-24 02:05:00|2019-10-24 08:05:00|2019-10-24 09:10:01|2019-10-24 19:20:01|\n",
      "|antonyalexcm@gmai...|2019-10-24 00:00:00|2019-10-24 10:15:00|2019-10-24 09:10:01|2019-10-24 19:25:01|\n",
      "|jitupatil937@gmai...|2019-10-24 00:55:00|2019-10-24 09:20:00|2019-10-24 09:10:01|2019-10-24 19:25:01|\n",
      "|akshaypatwari24@g...|2019-10-24 01:10:00|2019-10-24 09:05:00|2019-10-24 09:10:01|2019-10-24 19:25:01|\n",
      "|aheteshams007@gma...|2019-10-24 01:35:00|2019-10-24 08:50:01|2019-10-24 09:00:01|2019-10-24 19:25:02|\n",
      "+--------------------+-------------------+-------------------+-------------------+-------------------+\n",
      "only showing top 20 rows\n",
      "\n"
     ]
    }
   ],
   "source": [
    "spark= SparkSession.builder.appName(\"Learn\").getOrCreate()\n",
    "cpuDetails=spark.read.csv('usrINFO.csv',header=True, inferSchema=True)\n",
    "cpuDetails.show()"
   ]
  },
  {
   "cell_type": "code",
   "execution_count": 14,
   "metadata": {},
   "outputs": [
    {
     "name": "stdout",
     "output_type": "stream",
     "text": [
      "root\n",
      " |-- user_name: string (nullable = true)\n",
      " |-- idle_time: timestamp (nullable = true)\n",
      " |-- working_hours: timestamp (nullable = true)\n",
      " |-- start_time: timestamp (nullable = true)\n",
      " |-- end_time: timestamp (nullable = true)\n",
      "\n"
     ]
    }
   ],
   "source": [
    "cpuDetails.printSchema()"
   ]
  },
  {
   "cell_type": "code",
   "execution_count": 20,
   "metadata": {},
   "outputs": [
    {
     "name": "stdout",
     "output_type": "stream",
     "text": [
      "+--------------------+--------+\n",
      "|           user_name|workhour|\n",
      "+--------------------+--------+\n",
      "|  sahil24c@gmail.com|   18000|\n",
      "|magadum.iranna@gm...|   28800|\n",
      "|  yathink3@gmail.com|   32400|\n",
      "|  shelkeva@gmail.com|   32400|\n",
      "|puruissimple@gmai...|   25200|\n",
      "|sangita.awaghad19...|   28800|\n",
      "|vaishusawant143@g...|   32400|\n",
      "|     you@example.com|   28800|\n",
      "|samadhanmahajan73...|   28800|\n",
      "|vishnu23kumar@gma...|   21600|\n",
      "|ashutoshrit64@gma...|   36000|\n",
      "|akshaybavalekar10...|   28800|\n",
      "|khairnarswapna99@...|   32400|\n",
      "|kukadeshilpaa7m95...|   32400|\n",
      "|sarikabarge111@gm...|   28800|\n",
      "|narsimharaj.kasu0...|   28800|\n",
      "|antonyalexcm@gmai...|   36000|\n",
      "|jitupatil937@gmai...|   32400|\n",
      "|akshaypatwari24@g...|   32400|\n",
      "|aheteshams007@gma...|   28800|\n",
      "+--------------------+--------+\n",
      "only showing top 20 rows\n",
      "\n"
     ]
    }
   ],
   "source": [
    "workingHor_hours= cpuDetails.withColumn('workHou2Sec',hour(cpuDetails['working_hours'])*3600)\n",
    "hourdetails=workingHor_hours.select('user_name','workhour')\n",
    "hourdetails.show()"
   ]
  },
  {
   "cell_type": "code",
   "execution_count": 25,
   "metadata": {},
   "outputs": [
    {
     "name": "stdout",
     "output_type": "stream",
     "text": [
      "+--------------------+--------------+\n",
      "|           user_name|WorkingMin2sec|\n",
      "+--------------------+--------------+\n",
      "|  sahil24c@gmail.com|          3000|\n",
      "|magadum.iranna@gm...|          2340|\n",
      "|  yathink3@gmail.com|          1440|\n",
      "|  shelkeva@gmail.com|           600|\n",
      "|puruissimple@gmai...|          1140|\n",
      "|sangita.awaghad19...|          2400|\n",
      "|vaishusawant143@g...|          3300|\n",
      "|     you@example.com|           240|\n",
      "|samadhanmahajan73...|          2340|\n",
      "|vishnu23kumar@gma...|           600|\n",
      "|ashutoshrit64@gma...|          1500|\n",
      "|akshaybavalekar10...|          2100|\n",
      "|khairnarswapna99@...|          1500|\n",
      "|kukadeshilpaa7m95...|          2400|\n",
      "|sarikabarge111@gm...|          2700|\n",
      "|narsimharaj.kasu0...|           300|\n",
      "|antonyalexcm@gmai...|           900|\n",
      "|jitupatil937@gmai...|          1200|\n",
      "|akshaypatwari24@g...|           300|\n",
      "|aheteshams007@gma...|          3000|\n",
      "+--------------------+--------------+\n",
      "only showing top 20 rows\n",
      "\n"
     ]
    }
   ],
   "source": [
    "working_min= cpuDetails.withColumn('WorkingMin2sec', minute(cpuDetails['working_hours'])*60)\n",
    "datamin=working_min.select('user_name','WorkingMin2sec')\n",
    "datamin.show()"
   ]
  },
  {
   "cell_type": "code",
   "execution_count": 23,
   "metadata": {},
   "outputs": [
    {
     "name": "stdout",
     "output_type": "stream",
     "text": [
      "+--------------------+----------+\n",
      "|           user_name|workingSec|\n",
      "+--------------------+----------+\n",
      "|  sahil24c@gmail.com|         0|\n",
      "|magadum.iranna@gm...|        59|\n",
      "|  yathink3@gmail.com|        59|\n",
      "|  shelkeva@gmail.com|         1|\n",
      "|puruissimple@gmai...|        59|\n",
      "|sangita.awaghad19...|         0|\n",
      "|vaishusawant143@g...|         0|\n",
      "|     you@example.com|        59|\n",
      "|samadhanmahajan73...|        59|\n",
      "|vishnu23kumar@gma...|         0|\n",
      "|ashutoshrit64@gma...|         1|\n",
      "|akshaybavalekar10...|         0|\n",
      "|khairnarswapna99@...|         0|\n",
      "|kukadeshilpaa7m95...|         0|\n",
      "|sarikabarge111@gm...|         0|\n",
      "|narsimharaj.kasu0...|         0|\n",
      "|antonyalexcm@gmai...|         0|\n",
      "|jitupatil937@gmai...|         0|\n",
      "|akshaypatwari24@g...|         0|\n",
      "|aheteshams007@gma...|         1|\n",
      "+--------------------+----------+\n",
      "only showing top 20 rows\n",
      "\n"
     ]
    }
   ],
   "source": [
    "workingsec=cpuDetails.withColumn('workingSec',second(cpuDetails['working_hours']))\n",
    "datasec=workingsec.select('user_name','workingSec')\n",
    "datasec.show()"
   ]
  },
  {
   "cell_type": "code",
   "execution_count": 26,
   "metadata": {},
   "outputs": [
    {
     "name": "stdout",
     "output_type": "stream",
     "text": [
      "+--------------------+--------+--------------+\n",
      "|           user_name|workhour|WorkingMin2sec|\n",
      "+--------------------+--------+--------------+\n",
      "|  sahil24c@gmail.com|   18000|          3000|\n",
      "|magadum.iranna@gm...|   28800|          2340|\n",
      "|  yathink3@gmail.com|   32400|          1440|\n",
      "|  shelkeva@gmail.com|   32400|           600|\n",
      "|puruissimple@gmai...|   25200|          1140|\n",
      "|sangita.awaghad19...|   28800|          2400|\n",
      "|vaishusawant143@g...|   32400|          3300|\n",
      "|     you@example.com|   28800|           240|\n",
      "|samadhanmahajan73...|   28800|          2340|\n",
      "|vishnu23kumar@gma...|   21600|           600|\n",
      "|ashutoshrit64@gma...|   36000|          1500|\n",
      "|akshaybavalekar10...|   28800|          2100|\n",
      "|khairnarswapna99@...|   32400|          1500|\n",
      "|kukadeshilpaa7m95...|   32400|          2400|\n",
      "|sarikabarge111@gm...|   28800|          2700|\n",
      "|narsimharaj.kasu0...|   28800|           300|\n",
      "|antonyalexcm@gmai...|   36000|           900|\n",
      "|jitupatil937@gmai...|   32400|          1200|\n",
      "|akshaypatwari24@g...|   32400|           300|\n",
      "|aheteshams007@gma...|   28800|          3000|\n",
      "+--------------------+--------+--------------+\n",
      "only showing top 20 rows\n",
      "\n"
     ]
    }
   ],
   "source": [
    "joindata=hourdetails.join(datamin, on=['user_name'],how='inner')\n",
    "joindata.show()"
   ]
  },
  {
   "cell_type": "code",
   "execution_count": 29,
   "metadata": {},
   "outputs": [
    {
     "name": "stdout",
     "output_type": "stream",
     "text": [
      "+--------------------+--------+--------------+--------+--------------+----------+\n",
      "|           user_name|workhour|WorkingMin2sec|workhour|WorkingMin2sec|workingSec|\n",
      "+--------------------+--------+--------------+--------+--------------+----------+\n",
      "|ashutoshrit64@gma...|   36000|          1500|   36000|          1500|         1|\n",
      "|giridhardandikwar...|   25200|          2700|   25200|          2700|         0|\n",
      "|       nikitapawar17|    3600|          3000|    3600|          3000|         0|\n",
      "|salinabodale73@gm...|   25200|          1800|   25200|          1800|         0|\n",
      "|mail2anik.officia...|    3600|          1800|    3600|          1800|         0|\n",
      "|“shivnajalisangal...|       0|           300|       0|           300|         0|\n",
      "|indrajeetgajbhiye...|   28800|          3000|   28800|          3000|         0|\n",
      "|khairnarswapna99@...|   32400|          1500|   32400|          1500|         0|\n",
      "|aman.raj251@gmail...|   25200|           900|   25200|           900|         0|\n",
      "|Krushnanikam26@gm...|   25200|          2400|   25200|          2400|         1|\n",
      "|gaikwadr576@gmail...|   21600|          1800|   21600|          1800|         0|\n",
      "|adikumar2514@gmai...|   21600|          2940|   21600|          2940|        59|\n",
      "|magadum.iranna@gm...|   28800|          2340|   28800|          2340|        59|\n",
      "| dileep.bs@yahoo.com|   18000|          2100|   18000|          2100|         0|\n",
      "|puruissimple@gmai...|   25200|          1140|   25200|          1140|        59|\n",
      "|er.mukulvij96@gma...|   21600|          3240|   21600|          3240|        59|\n",
      "|prajktasraut16@gm...|   32400|           240|   32400|           240|        59|\n",
      "|samruddhichitnis0...|   32400|          1500|   32400|          1500|         8|\n",
      "|surajwarbhuvan192...|   32400|             0|   32400|             0|         0|\n",
      "|hakepratiksha55@g...|       0|           300|       0|           300|         0|\n",
      "+--------------------+--------+--------------+--------+--------------+----------+\n",
      "only showing top 20 rows\n",
      "\n"
     ]
    }
   ],
   "source": [
    "datasec=joindata.join(datasec, on=['user_name'],how='inner')"
   ]
  },
  {
   "cell_type": "code",
   "execution_count": 30,
   "metadata": {},
   "outputs": [
    {
     "name": "stdout",
     "output_type": "stream",
     "text": [
      "+--------------------+--------+--------------+----------+\n",
      "|           user_name|workhour|WorkingMin2sec|workingSec|\n",
      "+--------------------+--------+--------------+----------+\n",
      "|  sahil24c@gmail.com|   18000|          3000|         0|\n",
      "|magadum.iranna@gm...|   28800|          2340|        59|\n",
      "|  yathink3@gmail.com|   32400|          1440|        59|\n",
      "|  shelkeva@gmail.com|   32400|           600|         1|\n",
      "|puruissimple@gmai...|   25200|          1140|        59|\n",
      "|sangita.awaghad19...|   28800|          2400|         0|\n",
      "|vaishusawant143@g...|   32400|          3300|         0|\n",
      "|     you@example.com|   28800|           240|        59|\n",
      "|samadhanmahajan73...|   28800|          2340|        59|\n",
      "|vishnu23kumar@gma...|   21600|           600|         0|\n",
      "|ashutoshrit64@gma...|   36000|          1500|         1|\n",
      "|akshaybavalekar10...|   28800|          2100|         0|\n",
      "|khairnarswapna99@...|   32400|          1500|         0|\n",
      "|kukadeshilpaa7m95...|   32400|          2400|         0|\n",
      "|sarikabarge111@gm...|   28800|          2700|         0|\n",
      "|narsimharaj.kasu0...|   28800|           300|         0|\n",
      "|antonyalexcm@gmai...|   36000|           900|         0|\n",
      "|jitupatil937@gmai...|   32400|          1200|         0|\n",
      "|akshaypatwari24@g...|   32400|           300|         0|\n",
      "|aheteshams007@gma...|   28800|          3000|         1|\n",
      "+--------------------+--------+--------------+----------+\n",
      "only showing top 20 rows\n",
      "\n"
     ]
    }
   ],
   "source": [
    "datasec.show()"
   ]
  },
  {
   "cell_type": "code",
   "execution_count": 31,
   "metadata": {},
   "outputs": [
    {
     "name": "stdout",
     "output_type": "stream",
     "text": [
      "+--------------------+--------+--------------+----------+------------------+\n",
      "|           user_name|workhour|WorkingMin2sec|workingSec|         timeinsec|\n",
      "+--------------------+--------+--------------+----------+------------------+\n",
      "|  sahil24c@gmail.com|   18000|          3000|         0| 5.833333333333333|\n",
      "|magadum.iranna@gm...|   28800|          2340|        59|  8.66638888888889|\n",
      "|  yathink3@gmail.com|   32400|          1440|        59|  9.41638888888889|\n",
      "|  shelkeva@gmail.com|   32400|           600|         1| 9.166944444444445|\n",
      "|puruissimple@gmai...|   25200|          1140|        59| 7.333055555555555|\n",
      "|sangita.awaghad19...|   28800|          2400|         0| 8.666666666666666|\n",
      "|vaishusawant143@g...|   32400|          3300|         0| 9.916666666666666|\n",
      "|     you@example.com|   28800|           240|        59| 8.083055555555555|\n",
      "|samadhanmahajan73...|   28800|          2340|        59|  8.66638888888889|\n",
      "|vishnu23kumar@gma...|   21600|           600|         0| 6.166666666666667|\n",
      "|ashutoshrit64@gma...|   36000|          1500|         1|10.416944444444445|\n",
      "|akshaybavalekar10...|   28800|          2100|         0| 8.583333333333334|\n",
      "|khairnarswapna99@...|   32400|          1500|         0| 9.416666666666666|\n",
      "|kukadeshilpaa7m95...|   32400|          2400|         0| 9.666666666666666|\n",
      "|sarikabarge111@gm...|   28800|          2700|         0|              8.75|\n",
      "|narsimharaj.kasu0...|   28800|           300|         0| 8.083333333333334|\n",
      "|antonyalexcm@gmai...|   36000|           900|         0|             10.25|\n",
      "|jitupatil937@gmai...|   32400|          1200|         0| 9.333333333333334|\n",
      "|akshaypatwari24@g...|   32400|           300|         0| 9.083333333333334|\n",
      "|aheteshams007@gma...|   28800|          3000|         1|  8.83361111111111|\n",
      "+--------------------+--------+--------------+----------+------------------+\n",
      "only showing top 20 rows\n",
      "\n"
     ]
    }
   ],
   "source": [
    "working= datasec.withColumn('timeinsec',(datasec['workhour']+datasec['WorkingMin2sec']+datasec['workingSec'])/3600)\n",
    "working.show()"
   ]
  },
  {
   "cell_type": "code",
   "execution_count": 32,
   "metadata": {},
   "outputs": [
    {
     "name": "stdout",
     "output_type": "stream",
     "text": [
      "+-----------------+\n",
      "|   avg(timeinsec)|\n",
      "+-----------------+\n",
      "|7.137449494949498|\n",
      "+-----------------+\n",
      "\n"
     ]
    }
   ],
   "source": [
    "average=working.select(avg('timeinsec'))\n",
    "average.show()"
   ]
  },
  {
   "cell_type": "code",
   "execution_count": 33,
   "metadata": {},
   "outputs": [
    {
     "name": "stdout",
     "output_type": "stream",
     "text": [
      "+--------------------+-------------------+\n",
      "|           user_name|          timeinsec|\n",
      "+--------------------+-------------------+\n",
      "|  sahil24c@gmail.com|  5.833333333333333|\n",
      "|vishnu23kumar@gma...|  6.166666666666667|\n",
      "|sargampandey27oct...|  5.416388888888889|\n",
      "|ayush.saraf47@gma...|  5.833611111111111|\n",
      "|mr.kundare@gmail.com|0.08305555555555555|\n",
      "|ruchikachile30199...|  6.083055555555555|\n",
      "|“shivnajalisangal...|0.08333333333333333|\n",
      "| addyp1911@gmail.com|  6.666666666666667|\n",
      "|dipakalagate1991@...|  5.250277777777778|\n",
      "|gaikwadr576@gmail...|                6.5|\n",
      "|tekina.makin@gmai...|0.16666666666666666|\n",
      "|mishrasushil889@g...|  5.999722222222222|\n",
      "| blsonalib@gmail.com|  7.083333333333333|\n",
      "|hakepratiksha55@g...|0.08333333333333333|\n",
      "|vaibhavpratihar17...|                6.5|\n",
      "|bsaivenkatavikas@...|0.16666666666666666|\n",
      "| youremail@email.com|               2.75|\n",
      "|polelaxman001@gma...| 0.3333333333333333|\n",
      "|er.mukulvij96@gma...|  6.916388888888889|\n",
      "| dileep.bs@yahoo.com|  5.583333333333333|\n",
      "+--------------------+-------------------+\n",
      "only showing top 20 rows\n",
      "\n"
     ]
    }
   ],
   "source": [
    "working.filter(working['timeinsec']<7.137).select('user_name','timeinsec').show()"
   ]
  }
 ],
 "metadata": {
  "kernelspec": {
   "display_name": "Python 3",
   "language": "python",
   "name": "python3"
  },
  "language_info": {
   "codemirror_mode": {
    "name": "ipython",
    "version": 3
   },
   "file_extension": ".py",
   "mimetype": "text/x-python",
   "name": "python",
   "nbconvert_exporter": "python",
   "pygments_lexer": "ipython3",
   "version": "3.6.9"
  }
 },
 "nbformat": 4,
 "nbformat_minor": 4
}
